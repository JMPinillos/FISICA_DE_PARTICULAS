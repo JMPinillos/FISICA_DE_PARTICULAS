{
 "cells": [
  {
   "cell_type": "markdown",
   "metadata": {},
   "source": [
    "![Geant4](https://raw.githubusercontent.com/JMPinillos/FISICA_DE_PARTICULAS/main/IMAGENES/Titulo.png)"
   ]
  },
  {
   "cell_type": "markdown",
   "metadata": {},
   "source": [
    "# Objetivo\n",
    "\n",
    "Simular la interacción básica de partículas con ciertos medios gracias al software [Geant4](https://geant4.web.cern.ch/), desarrollado por el [CERN](https://home.cern/).\n",
    "\n",
    "En este laboratorio vamos a manejar una serie de [contenedores Docker](https://www.docker.com/) para orquestar una serie de servicios sencillos virtualizados. En lugar de instalar Docker en nuestra computadora (que podríamos hacerlo perfectamente), vamos usar el servicio gratuito [Play with Docker](https://labs.play-with-docker.com/).\n",
    "\n",
    "Este servicio no es más que un playground para que, quien quiera pueda explorar la creación y gestión de contenedores virtuales basados en [Docker](https://www.docker.com/). Vamos a ver en qué consiste."
   ]
  },
  {
   "cell_type": "markdown",
   "metadata": {},
   "source": [
    "## Play with Docker\n",
    "\n",
    "Play with Docker es un servicio cloud que nos permite jugar con Docker sin necesidad de instalar Docker localmente. Cada vez que accedemos a una sesión en [Play with Docker](https://labs.play-with-docker.com/), tenemos 4 maravillosas horas para experimentar con Docker, hasta que esta se cierra automáticamente. Parece poco tiempo pero es el suficiente para llevar a cabo nuestro humilde y divertido laboratorio. Dicho de otra manera: tenemos acceso casi ilimitado (en recursos) a un super computador orientado a familiarizarnos con contenedores virtuales durante todo el periodo de duración de la clase/laboratorio. Para acceder a Play with Docker, sólo necesitamos una [cuenta en Docker](https://hub.docker.com/register/). Como en la gran mayoría de servicios, este registro es gratuito, rápido y comporta los típicos pasos de selección de contraseña, envío de correo, confirmación de recepción de correo, etc.\n",
    "\n",
    "Una vez que ya tenemos acceso a la consola de Play with Docker, podemos solicitar máquinas reales (en realidad siguen siendo virtuales, pero a efectos prácticos, las trataremos como si fueran reales) sobre las que ejecutar a su vez contenedores Docker gracias a su [toolkit](https://docs.docker.com/engine/reference/commandline/docker/#child-commands). Al inicio no habrá ninguna, pero podemos crear la primera (y única que necesitamos) con el comando ADD NEW INSTANCE que se puede ver en la imagen.\n",
    "\n",
    "![PWD](https://raw.githubusercontent.com/JMPinillos/FISICA_DE_PARTICULAS/main/IMAGENES/Play_with_Docker.png)\n",
    "\n",
    "Cuando creamos una instancia, es como si accediéramos a una máquina pseudo real (o para lo que a todos los efectos, será una máquina real para nosotros). Se nos abrirá una sesión de shell de GNU Linux (Bash en este caso) justo al lado y sobre la que podemos introducir comados Unix de toda la vida, entre ellos los relacionados con Docker. En estas máquinas cuasi-reales ya está instalado todo el stack de Docker y podemos, a su vez, trabajar con contenedores virtuales basados en esta tecnología de vanguardia. En realidad Play with Docker hace uso de [DIND](https://github.com/jpetazzo/dind). Esta tecnología permite albergar contenedores Docker dentro de un contenedor Docker (sí, algo así como un sueño dentro de un sueño). Es decir: las instancias en Play with Docker son en realidad… ¡contenedores Docker! "
   ]
  },
  {
   "cell_type": "markdown",
   "metadata": {},
   "source": [
    "### ¿Cuál es la diferencia entre una imagen y un contenedor?\n",
    "\n",
    "* Una imagen es una implementación que incluye todo lo necesario para ejecutar un proceso, es decir, un archivo de almacenamiento de datos, en general llamado \"imagen ISO\".\n",
    "\n",
    "* El concepto de contenedor, aplicado a la informática, consiste en agrupar y aislar entre sí aplicaciones o grupos de aplicaciones que se ejecutan sobre un mismo núcleo de sistema operativo. En ella, se comparte un mismo hardware entre diversos sistemas operativos. En resumen, un contenedor es una instancia en ejecución de una imagen."
   ]
  },
  {
   "cell_type": "markdown",
   "metadata": {},
   "source": [
    "Fíjate que la instancia que has creado en Play with Docker es como si se tratara de un ordenador tuyo que estuviera en red y en ese ordenador tuvieras instalado Docker. Así de sencillo. A partir de ese momento ya no necesitamos acceder a Play with Docker mediante en el navegador (aunque está bien que lo dejes aparcado a un lado en caso de necesidad). Usaremos VS Code y acceso SSH tradicional, concretamente mediante dos clientes SSH milenarios: [OpenSSH](https://www.openssh.com/) y [Putty](https://www.putty.org/). El primero viene preinstalado típicamente en máquinas GNU/Linux y macOS y el segundo se tiene que descargar y hay versiones para todos los sistemas operativos (es el que se recomienda, por simplicidad, si estás en Windows). Este enunciado viene preparado para uses cualquiera de los dos, en cualquier sistema. "
   ]
  },
  {
   "cell_type": "markdown",
   "metadata": {},
   "source": [
    "Importante: tómate nota del usuario que te da Play with Docker y que empieza por **`ip`** y acaba en **`@direct…`** (Ejemplo: **`ip172-18-0-27-bg3pvjs3uhdg008ir0fg`**). Copia esa cadena de texto y guárdatela para futuros usos. A lo largo de este trabajo nos referiremos a ella con la variable de entorno **`$usuariopwd`**. También puedes regenerar el contenido de esta variable mediante este comando (a ejecutar en la consola web de Play with Docker):"
   ]
  },
  {
   "cell_type": "code",
   "execution_count": null,
   "metadata": {},
   "outputs": [],
   "source": [
    "echo ip$(ifconfig eth1 | grep \"inet \" | awk -F'[: ]+' '{ print $4 }' | sed 's/\\./-/g')-$SESSION_ID"
   ]
  },
  {
   "cell_type": "markdown",
   "metadata": {},
   "source": [
    "### ¿Qué hace el comando anterior? ¿De qué subcomandos se compone y qué papel juegan (`ifconfig`, `grep`, `awk` y `sed`)?\n",
    "\n",
    "* **`ifconfig`**: Imprime por pantalla información sobre las tarjetas de red instaladar en el equipo, en función de la distro seleccionada puede ser ethx, nax, etc...\n",
    "\n",
    "* **`grep`**: Comando que revisa línea por línea impreso mostrando solo las filas que contienen los caracteres o dígitos pasados por argumentos.\n",
    "\n",
    "* **`awk`**: Nos permite codificar un script que realiza desde transformaciones sobre los datos hasta seleccionar los que nos interesan. Es muy potente para procesar ficheros en formato de texto plano como CSV, TSV , etc...\n",
    "\n",
    "* **`sed`**: Comando para reemplazar un determinado texto o caracteres, se pueden emplear expresiones regulares para seleccionarlo. En este caso reemplazamos los puntos por comas."
   ]
  },
  {
   "cell_type": "markdown",
   "metadata": {},
   "source": [
    "## Software a instalar localmente\n",
    "\n",
    "### Estos son los distintos programas/paquetes que necesitas en tu sistema local:\n",
    "\n",
    "* Visual Studio Code ([VS Code](https://code.visualstudio.com/), para los amigos).\n",
    "\n",
    "* [Python](https://marketplace.visualstudio.com/items?itemName=ms-python.python). ¡Ojo!, no es necesario instalar Python ni vamos a trabajar con un intérprete de este lenguaje en nuestra máquina local. Sólo queremos esta extensión para que VS Code haga sintaxis de color de código Python (que será ejecutado por un contenedor Docker que crearemos en nuestra instancia pseudoreal en el servicio Play with Docker).\n",
    "  \n",
    "* [Preview on Web Server](https://github.com/YuichiNukiyama/vscode-preview-server), de Yuichi Nuikiyama. Esta extensión nos permite visualizar las simulaciones 3D en un navegador. Con la combinación de teclas Cntrl + Shift + L se abrirá un navegador que estará atento a cambios en la página web donde se dibujen las escenas 3D representando la física que estamos simulando.\n",
    "\n",
    "* [Putty](https://www.chiark.greenend.org.uk/~sgtatham/putty/latest.html), un cliente SSH muy conocido en Windows. También puedes usar Putty en macOS. Te recomiendo que los instales mediante [Scoop](https://scoop.sh/) o [Homebrew](https://brew.sh/), respectivamente.\n",
    "\n",
    "* [Instant Player](https://www.instantreality.org/downloads/) para visualizar las trazas de partículas. Se trata un visor de instrucciones [VWRL](https://en.wikipedia.org/wiki/VRML) disponible tanto para [macOS](http://doc.instantreality.org/media/uploads/downloads/2.8.0/InstantPlayer-MacOS-10.10-x64-2.8.0.38619.dmg), [Windows](http://doc.instantreality.org/media/uploads/downloads/2.8.0/InstantReality-Windows-vs2013-x64-2.8.0.38619.msi), [Ubuntu](http://doc.instantreality.org/media/uploads/downloads/2.8.0/InstantReality-Ubuntu-14.04-x64-2.8.0.38619.deb), [Red Hat](http://doc.instantreality.org/media/uploads/downloads/2.8.0/InstantReality-RedHat-7-x64-2.8.0.38619.rpm) y [SUSE](http://doc.instantreality.org/media/uploads/downloads/2.8.0/InstantReality-SLES-12.1-x64-2.8.0.38937.rpm). Para solucionar el problema de que falta un archivo **`MSVCP110.dll`** en el caso de algunas versiones de Windows, instalad el runtime mínimo de _Microsoft Visual C++ 2012 Redistributable_ para 64 bit desde [aquí](http://www.microsoft.com/en-au/download/confirmation.aspx?id=30679). "
   ]
  },
  {
   "cell_type": "markdown",
   "metadata": {},
   "source": [
    "### ¿Qué otros formatos estándar de representación 3D  conoces (Collada, Stanford, Wavefront, X3D Extensible, Standard Tessellation Language, x3dom, etc.)?\n",
    "\n",
    "| Estándar                       | Desarollador                              | Características                                           | \n",
    "| :-                             | :-                                        | :-                                                        |\n",
    "| Collada                        |Sony Computer Entertainment, Khronos Group | Incluye un motor de física que permite definir muchos atributos físicos a la escena y sus objetos. Alta compatibilidad entre aplicaciones. Crea archivos xml |\n",
    "| Stanford                       | Greg Turk, Universidad Stanford           | Tiene un repositorio publico para testear los algoritmos  |\n",
    "| X3D Extensible                 | X3D                                       | Pretende substituir a vrml. Soporte vrml y xml            |\n",
    "| Standard Tessellation Language | 3D Systems                                | Pensado para el prototipado rápido en la industria de fabricación.Formato muy extendido entre el software de impresión 3d| \n",
    "| x3dom                          | X3D                                       | Formato de intercambio de datos 3D optimizado para la web |\n",
    "| VRML 97 (ISO/IEC DIS 14772-1)  | Consorcio Web3D                           | Para modelar objetos 3d que son interpretados en un navegador web, está orientado a la realidad virtual |"
   ]
  },
  {
   "cell_type": "markdown",
   "metadata": {},
   "source": [
    "### ¿Quién desarrolla Instant Player y qué contribuciones ha hecho al mundo de la tecnología?\n",
    "\n",
    "Instant Player se ha desarrollado en [Fraunhofer IGD](http://www.igd.fraunhofer.de/igd-a4) y [ZGDV](http://zgdv.de/) en estrecha colaboración con otros socios industriales:\n",
    "\n",
    "[OpenSG](http://www.opensg.org/): sistema de representación de gráficos de escena de código abierto.\n",
    "InstantIO: dispositivo transparente de red y sistema de gestión de flujo de datos.\n",
    "VisionLib: procesador de canalización de imágenes / visión flexible.\n",
    "Avalon: sistema dinámico de gestión y manipulación de escenas.\n",
    "\n",
    "Se utiliza como sistema independiente o cliente de clúster. Ejecuta X3D / VRML / aplicaciones de realidad instantánea y proporciona diferentes interfaces de tiempo de ejecución para acceder y modificar la escena y el estado del motor: WebInterface (protocolo http; permite el acceso completo a todos los nodos y datos de nodos; lo mejor para configurar, depurar e incluso controlar la aplicación a través de, por ejemplo, Adobe Flash, AJAX), AEI (“Avalon External Interface”, una implementación de EAI sobre redes) y SAI sobre SOAP.\n",
    "\n",
    "El programa ofrece un conjunto completo de características para admitir la Realidad Virtual (VR) clásica y la Realidad Aumentada (AR) avanzada por igual. Proporciona una interfaz de aplicación muy simple y, al mismo tiempo, incluiye los últimos resultados de investigación en los campos de renderizado de alto realismo, interacción del usuario en 3D y tecnología de visualización de inmersión total."
   ]
  },
  {
   "cell_type": "markdown",
   "metadata": {},
   "source": [
    "* [ParaView](http://www.paraview.org/), de [Kitware](https://www.kitware.com/), pero sólo se recomienda su uso en el caso de que, por alguna razón Instant Player no funcione de ninguna manera (quizás en el caso de que tu arquitectura sea todavía 32 bit). Para ver las trazas de las partículas correctamente, elige el modo Wireframe (barra de herramientas)."
   ]
  },
  {
   "cell_type": "markdown",
   "metadata": {},
   "source": [
    "### ¿En qué proyectos está involucrada la fundación Kitware y cómo han cambiado el mundo de la informática, la tecnología, la ciencia y la medicina? Pista: [CMake](https://cmake.org/), [VTK](http://vtk.org/), [ITK](https://itk.org/), etc.\n",
    "\n",
    "[Kitware](https://www.kitware.com/): es una empresa especializada en el desarrollo de software libre y está involucrada en multitud de proyectos actuales que aportan a los usuarios herramientas de código abierto fiables como Cmake, VTK e ITK:\n",
    "\n",
    "[CMake](https://cmake.org/): Herramienta multiplataforma para la generacion, automatización y analisis de código.\n",
    "\n",
    "[VTK](http://vtk.org/): Kit de herramientas para la crear, procesar y visualizar gráficos 3D en computaoras. Proporciona la base para crear herramientas de visualización de graficos 3D avanzadas.\n",
    "\n",
    "[ITK](https://itk.org/): Kit de segmentación y registro de imágenes utilizado para la clasificación y registro de datos de imágenes digitales. Contiene muchos algoritmos utiles para este fin y es ampliamente utilizado en el sector de la medicina para la complementación y análisis de las pruebas diagnosticas por imagen.\n"
   ]
  },
  {
   "cell_type": "markdown",
   "metadata": {},
   "source": [
    "* [view3dscene](https://castle-engine.io/view3dscene.php), de [Castle Game Engine](https://castle-engine.io/index.php). Es otro visualizador 3D multiplataforma, parte de este conocidísimo motor de videojuegos (competencia directa de [Unity](https://unity.com/)). \n",
    "\n",
    "* [Docker](https://www.docker.com/) ¡No! No es necesario instalar Docker, pero ya que estamos…  "
   ]
  },
  {
   "cell_type": "markdown",
   "metadata": {},
   "source": [
    "### ¿Qué es Docker?\n",
    "\n",
    "Docker es un software de codigo abierto y multiplataforma de creación y gestión de contenedores basado en linux.\n",
    "\n",
    "### ¿Qué son los contenedores virtuales?\n",
    "\n",
    "Los contenedores virtuales son semejantes a pequeñas maquinas virtuales pero sin sistema operativo lo que las hace mas ligeras, están pensados para ejecutar un único proceso y contienen en su interior todo lo necesario para la realización de ese proceso.\n",
    "\n",
    "### ¿Qué alternativas a Docker existen ([OpenVZ](https://openvz.org/), [LXC](https://linuxcontainers.org/), [Vagrant](https://www.vagrantup.com/), [rkt](https://coreos.com/rkt/), [Singularity](https://sylabs.io/), etc.)?\n",
    "\n",
    "[OpenVz](https://openvz.org/): Es opensource y le da soporte la empresa SWsoft, basándose también en contenedores linux ofrece un enfoque mas clásico de virtualización con sistemas operativos dentro de los contenedores.\n",
    "\n",
    "[LXC](https://linuxcontainers.org/): Es solo para linux y fue usada en las primeras versiones de Docker. Proporciona funcionalidades para la virtualización a escala de sistema operativo sin necesidad de crear máquinas virtuales.\n",
    "\n",
    "[rkt](https://coreos.com/rkt/): es un motor de contenedores de aplicaciones desarrollado para entornos nativos de la nube de producción moderna. Cuenta con un enfoque nativo de pod, un entorno de ejecución conectable y un área de superficie bien definida que lo hace ideal para la integración con otros sistemas. Los pods de rkt sigue el mismo concepto que el sistema de orquestación de Kubernetes.\n",
    "\n",
    "[Kubernetes](https://kubernetes.io/es/docs/concepts/overview/what-is-kubernetes/): Es una plataforma portable y extensible de código abierto para administrar cargas de trabajo y servicios. Kubernetes facilita la automatización y la configuración declarativa. Tiene un ecosistema grande y en rápido crecimiento. El soporte, las herramientas y los servicios para Kubernetes están ampliamente disponibles. Kubernetes ofrece un entorno de administración centrado en contenedores. Kubernetes orquesta la infraestructura de cómputo, redes y almacenamiento para que las cargas de trabajo de los usuarios no tengan que hacerlo. Esto ofrece la simplicidad de las Plataformas como Servicio (PaaS) con la flexibilidad de la Infraestructura como Servicio (IaaS) y permite la portabilidad entre proveedores de infraestructura.\n",
    "\n",
    "[Vagrant](https://www.vagrantup.com/): Es una herramienta para crear y administrar entornos de máquinas virtuales en un solo flujo de trabajo. Con un flujo de trabajo fácil de usar y un enfoque en la automatización. Vagrant reduce el tiempo de configuración del entorno de desarrollo, aumenta la paridad de producción y hace que los \"trabajos en la propia máquina\" sean una reliquia del pasado.\n",
    "\n",
    "[Singularity](https://sylabs.io/): Proporciona una única vía de acceso universal desde los puestos trabajo de los desarrolladores hasta los recursos locales, la nube y todo siempre hasta el máximo de sus posibilidades. Los usuarios de Singularity pueden construir aplicaciones en los escritorios y lanzar cientos o miles instancias.Kubernetes:es una plataforma portable y extensible de código abierto para administrarcargas de trabajo y servicios.\n",
    "\n",
    "### Resume brevemente la historia de Docker.\n",
    "\n",
    "En el año 2000 para conseguir la separación entre servicios compartidos se crea FreeBSD Jails que separa el sistema en varios sistemas casi independientes y configurables por separado, este sería el inicio que daría lugar a los futuros contenedores.\n",
    "\n",
    "En 2006 Google lanza Process Containers un software capaz de gestionar y analizar los recursos de un grupo de procesos (cgroups) y al poco tiempo se integró en el kernel de linux.\n",
    "\n",
    "En 2008 se crea Linux Contaniers LXC , un gestor de contenedores linux completo y potente.\n",
    "\n",
    "En 2013 la empresa dotcould crea un motor de contenedores para linux utilizando LXC para su gestión. El proyecto tubo gran acogida y se creo un equipo dedicado y se le dio el nombre de DOCKER al proyecto que finalmente lanzo su primera version en 2014.\n",
    "\n",
    "En posteriores versiones Docker abandona la tecnología LXC y la sustituye por libcontainer.\n",
    "\n",
    "### ¿Por qué Docker se ha convertido en un software tan popular?\n",
    "\n",
    "Docker es tan popular gracias a su alto grado de portabilidad, el cual permite distribuir los contenedores con entornos ya creados y configurados donde se puedan reproducir los procesos y los resultados, esto es especialmente útil entre la comunidad científica y los desarrollares de software.\n",
    "\n",
    "Otro punto a favor de docker es que encaja muy bien con tecnologías basadas en la nube y permite mas instancias de aplicaciones de servidor que con máquinas virtuales Xeno KVM en el mismo hardware.\n",
    "\n",
    "Tambien facilita a los desarrolladores empaquetar, enviar y ejecutar de manera sencilla cualquier aplicación, pudiendo aislar el código en un sólo contenedor y haciendo que modificar o actualizar la aplicación sea más sencillo."
   ]
  },
  {
   "cell_type": "markdown",
   "metadata": {},
   "source": [
    "* [PowerShell](https://docs.microsoft.com/en-us/powershell/). En el caso de Windows (en incluso [Linux](https://docs.microsoft.com/en-us/powershell/scripting/install/installing-powershell-core-on-linux?view=powershell-6) y [macOS](https://docs.microsoft.com/en-us/powershell/scripting/install/installing-powershell-core-on-macos?view=powershell-6)), te recomiendo que uses PowerShell. Se trata de un shell de código abierto y multiplataforma creado por Microsoft. Todos los comandos de este manual vienen preparados para Bash y PowerShell. VS Code debería detectar que tienes PowerShell instalado y ofrecerte su uso como shell por defecto, pero si acaso no fuera así, consulta esta [página de ayuda](https://techcommunity.microsoft.com/t5/itops-talk-blog/configure-visual-studio-code-to-run-powershell-for-windows-and/ba-p/283258) de Microsoft."
   ]
  },
  {
   "cell_type": "markdown",
   "metadata": {},
   "source": [
    "## Ejecución del laboratorio\n",
    "\n",
    "Como hemos comentado antes, no vamos a usar la web de Play with Docker. En su lugar, usaremos herramientas de vanguardia y de masivo uso en computación remota, como SSH (mediante un cliente de este protocolo: OpenSSH o Putty).\n",
    "\n",
    "* Crea una instancia en Play with Docker si no lo has hecho ya (ADD NEW INSTANCE). Sólo hace falta una. \n",
    "\n",
    "* Abre una carpeta de trabajo (workspace) desde Visual Studio Code. En esta carpeta de trabajo es donde guardaremos los archivos **`.key`** y **`.ppk`** (de los que luego hablaremos) y desde donde lanzaremos los comandos a ejecutar remotamente en nuestra instancia Play with Docker. \n",
    "\n",
    "* Descárgate los archivos **`geant4lab.ppk`** y  **`geant4lab.key`**  desde [aquí](https://github.com/pammacdotnet/FFRepo/raw/master/ppkkey.zip). Lo necesitaremos más adelante para lanzar la simulación si accedes a tu instancia PWD con Putty (ya sea desde Windows o desde macOS)."
   ]
  },
  {
   "cell_type": "markdown",
   "metadata": {},
   "source": [
    "### ¿Qué es un fichero `ppk`? ¿Qué es una clave RSA público/privada (fichero `key`)?\n",
    "\n",
    "* Un fichero **`pkk`** es un fichero de configuración del cliente SSH libre Putty que contiene la clave publica para la conexión.  \n",
    "\n",
    "* La clave RSA público/privada es la clave necesaria para la conexión directa por **`SSH`** en máquinas linux y mac.\n"
   ]
  },
  {
   "cell_type": "markdown",
   "metadata": {},
   "source": [
    "Si estás en macOS o GNU/Linux, tienes que dar unos permisos especiales al archivo **`key`**:"
   ]
  },
  {
   "cell_type": "code",
   "execution_count": null,
   "metadata": {},
   "outputs": [],
   "source": [
    "chmod 400 geant4lab.key"
   ]
  },
  {
   "cell_type": "markdown",
   "metadata": {},
   "source": [
    "## Descarga de la imagen Docker del laboratorio\n",
    "\n",
    "Lo primero que tenemos que hacer es descargarnos la imagen de la pila de contenedores que conforman una imagen con todo lo necesario para ejecutar Geant4. Esta imagen [se encuentra ya en el Docker Hub](https://cloud.docker.com/u/pammacdotnet/repository/docker/pammacdotnet/geant4lab)."
   ]
  },
  {
   "cell_type": "markdown",
   "metadata": {},
   "source": [
    "### ¿Qué es el [Hub](https://hub.docker.com/) de Docker?\n",
    "\n",
    "* El hub de Docker es un repositorio desde donde se pueden descargar imagenes de docker.\n",
    "\n",
    "### ¿Cuál es la diferencia entre una imagen y un contenedor?\n",
    "\n",
    "* Una imagen es una implementación que incluye todo lo necesario para ejecutar un proceso, es decir, un archivo de almacenamiento de datos, en general llamado \"imagen ISO\".\n",
    "\n",
    "* El concepto de contenedor, aplicado a la informática, consiste en agrupar y aislar entre sí aplicaciones o grupos de aplicaciones que se ejecutan sobre un mismo núcleo de sistema operativo. En ella, se comparte un mismo hardware entre diversos sistemas operativos. En resumen, un contenedor es una instancia en ejecución de una imagen.\n"
   ]
  },
  {
   "cell_type": "markdown",
   "metadata": {},
   "source": [
    "Para enviar esta orden ejecutaremos una comando remoto por SSH (mediante sus implementaciones OpenSSH y/o Putty, a elegir). Estos comandos remotos los invocaremos directamente desde el terminal integrado de VS Code. Nunca salimos de VS Code, salvo que queramos ver las simulaciones 3D con un visualizador externo (Instant Player, ParaView, Blender, etc.). \n",
    "\n",
    "En el caso de que uses una consola [Bash](https://www.gnu.org/software/bash/) o [PowerShell](https://docs.microsoft.com/en-us/powershell/scripting/overview?view=powershell-6), también puedes guardar la cadena que identifica la conexión a PWD en una variable de entorno (por ejemplo: **`$usuariopwd`**) y hacer referencia a esta en las llamadas SSH. Vamos a repasar con un ejemplo cómo se usan estas variables de entorno tanto en Unix (Bash) como Windows (PowerShell, aunque [este shell de Microsoft](https://github.com/PowerShell/PowerShell) está disponible a su vez tanto para Linux y para macOS):"
   ]
  },
  {
   "cell_type": "code",
   "execution_count": null,
   "metadata": {},
   "outputs": [],
   "source": [
    "usuariopwd='ip172-18-0-87-bo8bss3jagq000bqatpg'  # Bash\n",
    "$usuariopwd='ip172-18-0-87-bo8bss3jagq000bqatpg'  # PowerShell"
   ]
  },
  {
   "cell_type": "markdown",
   "metadata": {},
   "source": [
    "Por descontado, también puedes (y deberías usar) Bash sobre [WSL](https://docs.microsoft.com/en-us/windows/wsl/wsl2-install). \n",
    "\n",
    "En el caso de Windows, asegúrate de añadir previamente el directorio donde ha quedado Putty instalado (donde se encuentren los programas **`putty.exe`** y **`plink.exe`**) a la variable **`path`** de la configuración de VS Code (editando directamente el archivo **`settings.json`**):\n",
    "\n",
    "`\"terminal.integrated.env.windows\"`: { \"path\": `\"%path%;C:/carpeta/de/plink-y-putty\"` }\n",
    "\n",
    "Si habías añadido Putty a la [variable PATH del sistema](https://www.computerhope.com/issues/ch000549.htm), este paso no es necesario. [Scoop](https://scoop.sh/), por ejemplo, hace esto por ti automáticamente. \n",
    "\n",
    "Prueba a realizar una conexión de consola remota a la instancia Play with Docker que has creado anteriormente. Comprobarás que puedes ver los mismos archivos y directorios que si usaras la interfaz web.\n",
    "\n",
    "* En el caso de OpenSSH:"
   ]
  },
  {
   "cell_type": "code",
   "execution_count": null,
   "metadata": {},
   "outputs": [],
   "source": [
    "ssh -l $usuariopwd direct.labs.play-with-docker.com -i geant4lab.key"
   ]
  },
  {
   "cell_type": "markdown",
   "metadata": {},
   "source": [
    "* En el caso de Putty (te pedirá varias veces confirmación):"
   ]
  },
  {
   "cell_type": "code",
   "execution_count": null,
   "metadata": {},
   "outputs": [],
   "source": [
    "plink -ssh -l $usuariopwd direct.labs.play-with-docker.com -i geant4lab.ppk"
   ]
  },
  {
   "cell_type": "markdown",
   "metadata": {},
   "source": [
    "Ahora ya puedes descargar la imagen Docker con la que ejecutaremos la simulación. Sin embargo, en lugar de hacerlo mientras estamos conectados (como hemos hecho con el comando anterior) o desde la interfaz web, enviaremos este comando (**`docker pull`**)  desde nuestra máquina local. \n",
    "\n",
    "* En el caso de OpenSSH:"
   ]
  },
  {
   "cell_type": "code",
   "execution_count": null,
   "metadata": {},
   "outputs": [],
   "source": [
    "ssh -l $usuariopwd direct.labs.play-with-docker.com -i geant4lab.key \"/usr/local/bin/docker pull pammacdotnet/g4lpwd\""
   ]
  },
  {
   "cell_type": "markdown",
   "metadata": {},
   "source": [
    "* En el caso de Putty (fíjate que ahora hemos incluido la opción **`-batch`** para que ya no haga tantas preguntas):"
   ]
  },
  {
   "cell_type": "code",
   "execution_count": null,
   "metadata": {},
   "outputs": [],
   "source": [
    "plink -batch -ssh -l $usuariopwd direct.labs.play-with-docker.com -i geant4lab.ppk \"/usr/local/bin/docker pull pammacdotnet/g4lpwd\""
   ]
  },
  {
   "cell_type": "markdown",
   "metadata": {},
   "source": [
    "Este comando Docker (**`docker pull`**) lo que hace es descargarse la imagen **`geant4lab`** del usuario **`pammacdotnet`** alojada en el [Hub de Docker](http://hub.docker.com/). La descarga se produce desde este Hub al disco de la instancia en Play with Docker (no en nuestra máquina local).\n",
    "\n",
    "En una consola SSH o desde el interfaz web, descarga el fichero **`simulation.py`** desde [aquí](https://raw.githubusercontent.com/pammacdotnet/FFRepo/master/simulation.py) y guárdalo en en la carpeta de trabajo remota (típicamente será **`/root`**):"
   ]
  },
  {
   "cell_type": "code",
   "execution_count": null,
   "metadata": {},
   "outputs": [],
   "source": [
    "curl https://raw.githubusercontent.com/pammacdotnet/FFRepo/master/simulation.py -o simulation.py -s"
   ]
  },
  {
   "cell_type": "markdown",
   "metadata": {},
   "source": [
    "Si VS Code te pide que selecciones un intérprete Python, puedes ignorarlo, ya que no vamos a trabajar con un Python local, sino con un intérprete remoto que, a su vez, reside en un contenedor Docker (instanciado a partir de la imagen que hemos descargado o **`pull`**-eado en el punto anterior).\n",
    "\n",
    "De igual manera, descarga el fichero **`wrl2html.py`**, que servirá más tarde para generar versiones WebGL de las simulaciones:"
   ]
  },
  {
   "cell_type": "code",
   "execution_count": null,
   "metadata": {},
   "outputs": [],
   "source": [
    "curl https://raw.githubusercontent.com/pammacdotnet/FFRepo/master/wrl2html.py -o wrl2html.py -s\n",
    "chmod +x wrl2html.py "
   ]
  },
  {
   "cell_type": "markdown",
   "metadata": {},
   "source": [
    "Este código de la simulación describe un experimento de física de partículas cuya representación es más o menos esta:\n",
    "\n",
    "![PWD](https://raw.githubusercontent.com/JMPinillos/FISICA_DE_PARTICULAS/main/IMAGENES/Experimento_DEMO.png)\n",
    "\n",
    "Se trata de un universo en forma de cuboide donde las partículas subatómicas son aceleradas (por los medios que sean) y son proyectadas con forma cónica contra un objetivo (un target o fantoma) de un material que podemos variar a nuestro antojo en composición, tamaño y posición. Nosotros no nos preocupamos sobre cómo esas partículas han cobrado esa energía, sino solamente por cómo interaccionan con la materia."
   ]
  },
  {
   "cell_type": "markdown",
   "metadata": {},
   "source": [
    "### ¿Cómo se llama a este [tipo de haz](https://scholarsarchive.byu.edu/cgi/viewcontent.cgi?article=1605&=&context=facpub&=&sei-redir=1&referer=https%253A%252F%252Fscholar.google.com%252Fscholar%253Fhl%253Den%2526as_sdt%253D0%25252C5%2526q%253Dpencil%252Bbeam%2526btnG%253D#search=%22pencil%20beam%22) de partículas?\n",
    "\n",
    "Según referencia bibliográfica se conoce como pencil-beam (Haz de lápiz)."
   ]
  },
  {
   "cell_type": "markdown",
   "metadata": {},
   "source": [
    "## Ejecución de las simulaciones\n",
    "\n",
    "Ahora sólo tenemos que lanzar el comando de ejecución de la simulación (con opciones por defecto) desde el terminal integrado de VS Code:\n",
    "\n",
    "* En el caso de OpenSSH:"
   ]
  },
  {
   "cell_type": "code",
   "execution_count": null,
   "metadata": {},
   "outputs": [],
   "source": [
    "ssh -l $usuariopwd direct.labs.play-with-docker.com -i geant4lab.key \"/usr/local/bin/docker run -v \\${PWD}:/root pammacdotnet/g4lpwd\""
   ]
  },
  {
   "cell_type": "markdown",
   "metadata": {},
   "source": [
    "* En el caso de Putty:"
   ]
  },
  {
   "cell_type": "code",
   "execution_count": null,
   "metadata": {},
   "outputs": [],
   "source": [
    "plink -batch -ssh -l $usuariopwd direct.labs.play-with-docker.com -i geant4lab.ppk \"/usr/local/bin/docker run -v \\${PWD}:/root pammacdotnet/g4lpwd\""
   ]
  },
  {
   "cell_type": "markdown",
   "metadata": {},
   "source": [
    "Aparecerá un nuevo fichero en la instancia remota: **`simulation.wrl`**. Este fichero es un diagrama 3D que puedes ver con un visualizador externo."
   ]
  },
  {
   "cell_type": "markdown",
   "metadata": {},
   "source": [
    "### ¿Qué son los archivos wrl? ¿De qué estándar internacional se trata?\n",
    "\n",
    "* Los archivos wrl es donde guardamos las representaciones graficas de nuestras simulaciones, son archivos ASCII que siguen el estándar ISO. Creado por el consorcio web3D con el formato wrl podemos definir un mundo 3D y los objetos que contiene y sus características."
   ]
  },
  {
   "cell_type": "markdown",
   "metadata": {},
   "source": [
    "Este comando que acabamos de comentar (**`docker run`**) crea un contenedor Docker que tiene mapeada la carpeta interna **`/root`** con el directorio personal (home) del usuario root en la instancia Play with Docker. Esto se consigue con la opción **`-v`** (más info [aquí](https://docs.docker.com/storage/bind-mounts/#mount-into-a-non-empty-directory-on-the-container)). Sí… suena un poco mareante y efectivamente así es. En realidad Play with Docker hace uso de [DIND](https://github.com/jpetazzo/dind). Esta tecnología permite albergar contenedores Docker dentro de un contenedor Docker. \n",
    "\n",
    "El contenedor anterior tiene como cometido ejecutar un único proceso (que no es otro que un intérprete Python que interpreta las instrucciones de **`simulation.py`**). Como las dos carpetas están enlazadas tanto para lectura como escritura, el fichero **`simulation.wrl`** estará disponible en **`/root`** de la instancia Play with Docker. \n",
    "\n",
    "También puedes comprobar en cualquier momento que se ha generado correctamente ese fichero accediendo a la instancia Docker mediante la web de Play with Docker o, nuevamente, mediante consola/SSH interactiva a la máquina de Play With Docker. En ambos casos, el comando **`ls`** te listará los ficheros de la carpeta home (**`/root`**) del usuario por defecto (**`root`**).\n",
    "\n",
    "Para entender el resto de opciones disponibles para la simulación, es recomendable que leas la guía que tienes disponible [aquí](https://github.com/pammacdotnet/play-with-docker.github.io/raw/master/_posts/2020-02-23-geant4lab.markdown). También puedes visitar la [versión live](https://training.play-with-docker.com/geant4lab/) en el [sitio oficial de pruebas y formación](http://training.play-with-docker.com/) de Docker. "
   ]
  },
  {
   "cell_type": "markdown",
   "metadata": {},
   "source": [
    "## Visualización de la simulación\n",
    "\n",
    "Una vez que ya tenemos la simulación, sólo tenemos que visualizarla con Instant Player (o ParaView o view3dscene). Para ello, tenemos que traer (o mejor expresado, descargar). Lo podemos lograr gracias a lo comandos **`scp`** y **`pscp`**:\n",
    "\n",
    "* En el caso de OpenSSH:"
   ]
  },
  {
   "cell_type": "code",
   "execution_count": null,
   "metadata": {},
   "outputs": [],
   "source": [
    "scp -i geant4lab.key -o User=$usuariopwd direct.labs.play-with-docker.com:/root/simulacion.wrl simulacion.wrl"
   ]
  },
  {
   "cell_type": "markdown",
   "metadata": {},
   "source": [
    "* En el caso de Putty: "
   ]
  },
  {
   "cell_type": "code",
   "execution_count": null,
   "metadata": {},
   "outputs": [],
   "source": [
    "pscp -i geant4lab.ppk -l $usuariopwd direct.labs.play-with-docker.com:/root/simulacion.wrl simulation.wrl"
   ]
  },
  {
   "cell_type": "markdown",
   "metadata": {},
   "source": [
    "Una vez descargada, abrimos el fichero con Instant Player o, si ya está el fichero abierto, puedes simplemente recargarlo (File  ➡️  Reload). Lo que vemos en el visualizador son trazas de partículas, es decir, sólo vemos partículas que estén en movimiento. Las partículas o materia paradas, no se muestran. "
   ]
  },
  {
   "cell_type": "markdown",
   "metadata": {},
   "source": [
    "## Visualización con estándares web\n",
    "\n",
    "Pero quizás, la visualización más developer-friendly es la basada en HTML y estándares Web (WebGL). Luego ejecuta estos comandos (según uses OpenSSH o Putty) para convertir el archivo **`*.wrl`** a **`*.html`**."
   ]
  },
  {
   "cell_type": "code",
   "execution_count": null,
   "metadata": {},
   "outputs": [],
   "source": [
    "ssh -l $usuariopwd direct.labs.play-with-docker.com -i geant4lab.key \"/usr/bin/python3 /root/wrl2html.py\" # OpenSSH"
   ]
  },
  {
   "cell_type": "code",
   "execution_count": null,
   "metadata": {},
   "outputs": [],
   "source": [
    "plink -batch -ssh -l $usuariopwd direct.labs.play-with-docker.com -i geant4lab.ppk \"/usr/bin/python3 /root/wrl2html.py\" # Putty"
   ]
  },
  {
   "cell_type": "markdown",
   "metadata": {},
   "source": [
    "Esto generará el archivo **`simulation.html`** que, nuevamente, puedes copiar a tu carpeta de trabajo local (ya en tu disco duro) con los comandos **`scp`** y **`pscp`** que hemos visto anteriormente:"
   ]
  },
  {
   "cell_type": "code",
   "execution_count": null,
   "metadata": {},
   "outputs": [],
   "source": [
    "scp -i geant4lab.key -o User=$usuariopwd direct.labs.play-with-docker.com:/root/simulation.html .  # OpenSSH"
   ]
  },
  {
   "cell_type": "code",
   "execution_count": null,
   "metadata": {},
   "outputs": [],
   "source": [
    "pscp -i geant4lab.ppk -l $usuariopwd direct.labs.play-with-docker.com:/root/simulation.html .  # Putty"
   ]
  },
  {
   "cell_type": "markdown",
   "metadata": {},
   "source": [
    "Abre esta página web con cualquier navegador o directamente en VS Code con la extensión vscode-preview-server (comando **`Launch on browser`**) que has instalado al principio. Cada vez que se reescriba este fichero, la visualización se actualizará. En principio, la extensión **`preview-server`** debería actualizarla sin que digamos nada, pero si no lo hace, puedes guardar cualquier fichero (touch al directorio) y así debería actualizarse. También puedes simplemente indicarle al navegador (si estas usando un navegador externo) que refresque la página web."
   ]
  },
  {
   "cell_type": "markdown",
   "metadata": {},
   "source": [
    "### ¿Cómo es posible que veamos figuras 3D en una página web?\n",
    "\n",
    "Existen diferentes maneras de mostrar contenido 3D en una pagina web. Por ejemplo, podemos mostrarlo utilizando JavaScript o mediante un Canvas. En nuestro caso las imagenes se muestran gracias al elemento HTML canvas que permite dibujar gráficos.\n",
    "\n",
    "### ¿Qué estándares, alternativas, consorcios e instituciones están implicados?\n",
    "\n",
    "El estándar a seguir es HTML5.\n",
    "\n",
    "Como alternativas podrían usarse Flash, Java, ActiveX, SVG y JavaScript\n",
    "\n",
    "### ¿Qué alternativa estamos usando en este ejercicio y qué gran centro de investigación en matemáticas estuvo implicado?\n",
    "\n",
    "En nuestro ejercicio creamos un archivo llamado **`simulation.wrl`** y se envia un API de **instant reality**, del que ya hablamos anteriormente, que nos es mas que un conversor que interpreta unos parametros y nos lo convierte a **`HTML5`**.\n",
    "\n",
    "El API se basa en **X3D**, estándar de código abierto para publicar, ver, imprimir y archivar modelos 3Dinteractivos en la Web. Los estándares X3D y HANIM son desarrollados y mantenidospor Web3D Consortium."
   ]
  },
  {
   "cell_type": "markdown",
   "metadata": {},
   "source": [
    "Por último: también sería posible visualizar los ficheros **`wrl`** con Blender, ParaView, view3dscene y muchos otros."
   ]
  },
  {
   "cell_type": "markdown",
   "metadata": {},
   "source": [
    "# Interacciones de partículas con la materia\n",
    "\n",
    "Vamos a describir las más habituales y que deberías de poder encontrar tú mismo en tus simulaciones. Tienes esta misma información, pero con algo más de detalle, en la [versión live](https://training.play-with-docker.com/geant4lab/) de este laboratorio. "
   ]
  },
  {
   "cell_type": "markdown",
   "metadata": {},
   "source": [
    "## Efecto fotoeléctrico\n",
    "\n",
    "El efecto fotoeléctrico se produce cuando tiene lugar una interacción entre un fotón (partícula incidente) y un átomo. La consecuencia de una interacción fotoeléctrica es la emisión de electrones (fotoelectrones), debido a la absorción total de la energía del fotón por el electrón ligado. El fotón es absorbido completamente y desaparece de la escena.\n",
    "\n",
    "Nosotros vamos a configurar nuestro \"mini espacio\" de diferentes maneras para demostrar visualmente este experimento:\n",
    "\n",
    "**1. Proyectamos rallos gamma en un fantoma de 1 cm de aluminio con una energia de 1 MeV**"
   ]
  },
  {
   "cell_type": "code",
   "execution_count": null,
   "metadata": {},
   "outputs": [],
   "source": [
    "docker run -v ${PWD}:/root pammacdotnet/g4lpwd --type=gamma --energy=1 --material=G4_Al --size=1"
   ]
  },
  {
   "cell_type": "markdown",
   "metadata": {},
   "source": [
    "![Experimento fototoeléctrico 1](https://raw.githubusercontent.com/JMPinillos/FISICA_DE_PARTICULAS/main/IMAGENES/Experimento_Fotoelectrico_1.png)\n",
    "\n",
    "En esta primera imagen podemos observar como tras impactar con el fantoma algunos fotones atraviesan el fantoma, pero si hacemos zoom a la imagen vemos como otros fotones consiguen arrancar un electrón de algún atomo del material, aunque no con la suficiente energía como para que se desprenda totalmente de este y es reabsorbido por el material.\n",
    "\n",
    "Tambien se aprecia el efecto Compton que veremos mas adelante.\n"
   ]
  },
  {
   "cell_type": "markdown",
   "metadata": {},
   "source": [
    "Ahora aumentaremos nuestra energía para intentar conseguir que el electrón se desprende del atomo.\n",
    "\n",
    "**2. Proyectamos fotones en un fantoma de 1 cm de aluminio con una energia de 20 MeV**"
   ]
  },
  {
   "cell_type": "code",
   "execution_count": null,
   "metadata": {},
   "outputs": [],
   "source": [
    "docker run -v ${PWD}:/root pammacdotnet/g4lpwd --type=gamma --energy=20 --material=G4_Al --size=1"
   ]
  },
  {
   "cell_type": "markdown",
   "metadata": {},
   "source": [
    "![Experimento fototoeléctrico 2](https://raw.githubusercontent.com/JMPinillos/FISICA_DE_PARTICULAS/main/IMAGENES/Experimento_Fotoelectrico_2.png)\n",
    "\n",
    "Ahora vemos como el electrón tiene la suficiente energía para desprenderse del material. Aunque no todos consiguen la suficiente energía, al menos uno lo ha conseguido en este caso."
   ]
  },
  {
   "cell_type": "markdown",
   "metadata": {},
   "source": [
    "## Efecto Compton\n",
    "\n",
    "El efecto Compton tiene lugar en la interacción de un fotón (partícula incidente) y un electrón poco ligado al átomo. Se produce entonces una colisión casi elástica. Al colisionar el fotón con el electrón este es desviado, y el fotón original también. Puede asemejarse a un choque de bolas de billar. A veces si la energía del fotón incidente es muy justa, el electrón (o electrones, en el caso de una colisión múltiple) desviado apenas avanza (su traza es muy pequeña, casi imperceptible) y da la sensación de que el fotón (que, recordamos, no es más que luz) está zigzagueando.\n",
    "\n",
    "**1. Proyectamos fotones en un fantoma de agua con una energia de 20 MeV**"
   ]
  },
  {
   "cell_type": "code",
   "execution_count": null,
   "metadata": {},
   "outputs": [],
   "source": [
    "docker run -v ${PWD}:/root pammacdotnet/g4lpwd --energy=20"
   ]
  },
  {
   "source": [
    "![Experimento Compton](https://raw.githubusercontent.com/JMPinillos/FISICA_DE_PARTICULAS/main/IMAGENES/Experimento_Compton.png)\n",
    "\n",
    "En la imagen podemos observar como el fotón colisiona con un electrón, expulsando al electron fuera del atomo y desviandose el fotón"
   ],
   "cell_type": "markdown",
   "metadata": {}
  },
  {
   "cell_type": "markdown",
   "metadata": {},
   "source": [
    "### ¿Cuánto tiempo puede estar serpenteando un fotón que nace en el centro del Sol hasta llegar a la retina de cualquiera de tus ojos?\n",
    "\n",
    "La luz (fotones) tarda unos ocho minutos en recorrer los 150 millones de kilómetros quenos separan con el sol."
   ]
  },
  {
   "cell_type": "markdown",
   "metadata": {},
   "source": [
    "## Producción de pares\n",
    "\n",
    "El efecto de creación de pares tiene lugar con fotones de alta energía (> 1.1 MeV), y representa un proceso de materialización de energía en el sentido de la Mecánica Relativista. El fenómeno que tiene lugar es la desaparición del fotón en el campo del núcleo, y la creación en su lugar de un par positrón-electrón (materia y antimateria). "
   ]
  },
  {
   "cell_type": "markdown",
   "metadata": {},
   "source": [
    "### ¿Qué es un positrón?\n",
    "\n",
    "* Un positrón es una partícula elemental contraria al electrón, tiene su misma masa pero su carga es positiva.\n",
    "\n",
    "### ¿Quién postuló su existencia teórica y cuándo y cómo se descubrió experimentalmente?\n",
    "\n",
    "* Paul Dirac predijo su existencia en 1928 pero no pudo ser comprobada hasta 1932 gracias a Carl David Anderson quien le puso el nombre de positrón al fotografiar partículas que se curvaban en sentido contrario a los electrones al aplicarles un campo magnético en una cámara de niebla."
   ]
  },
  {
   "cell_type": "markdown",
   "metadata": {},
   "source": [
    "Para este experimento necesitamos bastante más energia debido a que nuestro material es el aluminio y bastante fino, asi que vamos a configurar nuestro \"mini espacio\" de diferente manera:\n",
    "\n",
    "**1. Proyectamos fotnoes en un fantoma de 1 cm de aluminio con una energia de 200 MeV**"
   ]
  },
  {
   "cell_type": "code",
   "execution_count": null,
   "metadata": {},
   "outputs": [],
   "source": [
    "docker run -v ${PWD}:/root pammacdotnet/g4lpwd --type=gamma --energy=200 --material=G4_Al --size=1"
   ]
  },
  {
   "cell_type": "markdown",
   "metadata": {},
   "source": [
    "![Experimento Produccion de pares](https://raw.githubusercontent.com/JMPinillos/FISICA_DE_PARTICULAS/main/IMAGENES/Experimento_Produccion_de_pares_2.png)\n",
    "\n",
    "Observamos como el foton desaparece y de él salen un electrón y un positrón."
   ]
  },
  {
   "cell_type": "markdown",
   "metadata": {},
   "source": [
    "## Ionización\n",
    "\n",
    "Si en los choques de una partícula cargada con los electrones atómicos, la energía transferida es superior a la energía de enlace del electrón que recibe el impacto, este abandona el átomo y en consecuencia se crea un ion positivo. El electrón expulsado puede a continuación zigzaguear hasta ser capturado por un átomo del entorno (la traza deja de verse porque, como hemos comentado, el electrón se para)."
   ]
  },
  {
   "source": [
    "**1. Cambiamos nuestra partícula a electrones con una energía de 20 MeV y nuestro fantoma por defecto sera de agua.**"
   ],
   "cell_type": "markdown",
   "metadata": {}
  },
  {
   "cell_type": "code",
   "execution_count": null,
   "metadata": {},
   "outputs": [],
   "source": [
    "docker run -v ${PWD}:/root pammacdotnet/g4lpwd --energy=20 --type=e-"
   ]
  },
  {
   "source": [
    "![Experimento Ionizacion](https://raw.githubusercontent.com/JMPinillos/FISICA_DE_PARTICULAS/main/IMAGENES/Experimento_ionizacion_1.png)\n",
    "\n",
    "Observamos como se produce la separación de electrones del átomo a causa de la energía del electrón que incide en este."
   ],
   "cell_type": "markdown",
   "metadata": {}
  },
  {
   "cell_type": "markdown",
   "metadata": {},
   "source": [
    "## Bremsstrahlung\n",
    "\n",
    "Cuando una partícula incidente con masa y carga eléctrica interacciona con un núcleo atómico, puede sufrir una variación súbita de su velocidad, emite radiación electromagnética (un fotón).\n",
    "\n",
    "**1. Para este experimento seguimos usando electrones con una energía de 20 MeV y nuestro fantoma ahora será de aluminio.**"
   ]
  },
  {
   "cell_type": "code",
   "execution_count": null,
   "metadata": {},
   "outputs": [],
   "source": [
    "docker run -v ${PWD}:/root pammacdotnet/g4lpwd --energy=20 --type=e- --materia=G4_Al"
   ]
  },
  {
   "source": [
    "![Experimento Bremsstrahlung](https://raw.githubusercontent.com/JMPinillos/FISICA_DE_PARTICULAS/main/IMAGENES/Experimento_Bremsstrahlung.png)\n",
    "\n",
    "En la imagen podemos observar como el electrón incide con la energia suficiente en el nucleo atómico emitiendo un fotón.\n",
    "\n",
    "Tambien vemos como el electrón se ve afectado por esta interacción, provocándose un zigzagueo de este y disminuyendo su velocidad hasta detenerse totalmente."
   ],
   "cell_type": "markdown",
   "metadata": {}
  },
  {
   "cell_type": "markdown",
   "metadata": {},
   "source": [
    "## Aniquilación de pares\n",
    "\n",
    "Si un positrón y un electrón se encuentran, se aniquilan creando dos fotones que son emitidos en direcciones opuestas.\n",
    "\n",
    "**1. Cambiamos nuestra partícula a fotones con una energía de 500 MeV y nuestro fantoma será de agua.**"
   ]
  },
  {
   "cell_type": "code",
   "execution_count": null,
   "metadata": {},
   "outputs": [],
   "source": [
    "docker run -v ${PWD}:/root pammacdotnet/g4lpwd --energy=500 --type=gamma --materia=G4_WATER"
   ]
  },
  {
   "source": [
    "![Experimento Aniquilación de pares](https://raw.githubusercontent.com/JMPinillos/FISICA_DE_PARTICULAS/main/IMAGENES/Experimento_Aniquilacio%CC%81n%20de%20pares.png)\n",
    "\n",
    "Si vamos haciendo zoom, podemos llegar a ver la aniquilación de pares producida al chocar un electrón con un positrón, produciendo dos fotones en direcciones opuestas.\n",
    "\n",
    "En la imagen, la línea roja del electrón casi no puede verse porque esta tapada por la línea amarilla del positrón."
   ],
   "cell_type": "markdown",
   "metadata": {}
  },
  {
   "cell_type": "markdown",
   "metadata": {},
   "source": [
    "### ¿Qué relación tiene la modalidad radiológica PET con la aniquilación de pares electrón-positrón?, ¿Cómo se trasladan positrones hasta el interior de las células cancerígenas?\n",
    "\n",
    "**PET (Tomografía por Emisión de Positrones)** es una técnica de proyección de imágenes que usa moléculas radiactivas para crear imágenes dinámicas de los tejidos y órganosinternos. Los escaneos PET son muy útiles ya que las enfermedades como el cáncer son procesos biológicos y los escaneos PET producen imágenes que revelan la actividad de los tejidos vivos. Éste es un contraste a las técnicas que revelan la estructura pero no actividad,tales como CT o Rayos-X.\n",
    "\n",
    "Los escaneos PET usan pequeñas moléculas diseñadas para ser muy similares a los compuestos usualmente encontrados en el cuerpo (radiotrazadores) que son inyectados a la sangre. Estos trazadores etiquetados compuestos son especialmente marcados y se usan en procesos normales del cuerpo, pero emiten positrones cuando se rompen (Al igual que aniquilación electrón-positrón emite fotones). Los escáneres PET contienen cámaras especiales que detectan estos positrones y crean imágenes con la información. La imagen distingue áreas que tienen poca concentración de radiotrazadores de áreas con altas concentraciones de radiotrazadores,presentando las diferencias en la imagen con cambios de color."
   ]
  }
 ],
 "metadata": {
  "kernelspec": {
   "display_name": "Python 3",
   "language": "python",
   "name": "python3"
  },
  "language_info": {
   "codemirror_mode": {
    "name": "ipython",
    "version": 3
   },
   "file_extension": ".py",
   "mimetype": "text/x-python",
   "name": "python",
   "nbconvert_exporter": "python",
   "pygments_lexer": "ipython3",
   "version": "3.8.5-final"
  }
 },
 "nbformat": 4,
 "nbformat_minor": 2
}